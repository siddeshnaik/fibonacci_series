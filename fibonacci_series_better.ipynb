{
 "cells": [
  {
   "cell_type": "code",
   "execution_count": 2,
   "metadata": {},
   "outputs": [
    {
     "name": "stdout",
     "output_type": "stream",
     "text": [
      "enter how many elements you would want from the series 13\n",
      "number= 1 \t fibonacci value= 0\n",
      "number= 2 \t fibonacci value= 1\n",
      "number= 3 \t fibonacci value= 1\n",
      "number= 4 \t fibonacci value= 2\n",
      "number= 5 \t fibonacci value= 3\n",
      "number= 6 \t fibonacci value= 5\n",
      "number= 7 \t fibonacci value= 8\n",
      "number= 8 \t fibonacci value= 13\n",
      "number= 9 \t fibonacci value= 21\n",
      "number= 10 \t fibonacci value= 34\n",
      "number= 11 \t fibonacci value= 55\n",
      "number= 12 \t fibonacci value= 89\n",
      "number= 13 \t fibonacci value= 144\n"
     ]
    }
   ],
   "source": [
    "number=int(input(\"enter how many elements you would want from the series \"))\n",
    "n=0\n",
    "m=1\n",
    "temp=0\n",
    "i=1\n",
    "while(i <= number):\n",
    "    if(n == 0 and i == 1):\n",
    "        print(\"number=\",i,\"\\t fibonacci value=\",0)\n",
    "        i=i+1\n",
    "        print(\"number=\",i,\"\\t fibonacci value=\",1)\n",
    "    else:\n",
    "        temp=m+n\n",
    "        n=m\n",
    "        m=temp\n",
    "        print(\"number=\",i,\"\\t fibonacci value=\",m)\n",
    "    i=i+1\n"
   ]
  }
 ],
 "metadata": {
  "kernelspec": {
   "display_name": "Python 3",
   "language": "python",
   "name": "python3"
  },
  "language_info": {
   "codemirror_mode": {
    "name": "ipython",
    "version": 3
   },
   "file_extension": ".py",
   "mimetype": "text/x-python",
   "name": "python",
   "nbconvert_exporter": "python",
   "pygments_lexer": "ipython3",
   "version": "3.7.6"
  }
 },
 "nbformat": 4,
 "nbformat_minor": 4
}
